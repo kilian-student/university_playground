{
 "cells": [
  {
   "cell_type": "code",
   "execution_count": 48,
   "id": "f6580399-8077-46a6-a3bf-9b16a8559379",
   "metadata": {},
   "outputs": [],
   "source": [
    "import git\n",
    "import pandas as pd\n",
    "import os\n",
    "from datetime import datetime"
   ]
  },
  {
   "cell_type": "code",
   "execution_count": 25,
   "id": "1cedc4dc-ddc8-448e-a4f4-20ccc30a00d3",
   "metadata": {},
   "outputs": [],
   "source": [
    "git_root = git.Repo(os.getcwd(), search_parent_directories=True).git.rev_parse(\"--show-toplevel\")\n",
    "read_file_path = git_root + '/data/raw_data/understat_data.csv'"
   ]
  },
  {
   "cell_type": "code",
   "execution_count": 26,
   "id": "ef219d55-e943-45e7-acb4-f04de1d70b74",
   "metadata": {},
   "outputs": [],
   "source": [
    "data = pd.read_csv(read_file_path, header=0, delimiter=';')"
   ]
  },
  {
   "cell_type": "markdown",
   "id": "b0e12e5d-ad5c-4692-a6b6-e007ec7edea7",
   "metadata": {},
   "source": [
    "# Get first impression of dataset"
   ]
  },
  {
   "cell_type": "code",
   "execution_count": 33,
   "id": "f58d8d24-41af-4609-b5bf-9907f97621d2",
   "metadata": {},
   "outputs": [
    {
     "data": {
      "text/plain": [
       "20980"
      ]
     },
     "execution_count": 33,
     "metadata": {},
     "output_type": "execute_result"
    }
   ],
   "source": [
    "len(data)"
   ]
  },
  {
   "cell_type": "code",
   "execution_count": 29,
   "id": "5b7e3337-b7fb-444e-a11d-23877d7f4c4e",
   "metadata": {},
   "outputs": [
    {
     "data": {
      "text/plain": [
       "Index(['id', 'league', 'date', 'team_home', 'team_away', 'chances', 'goals',\n",
       "       'xG', 'shots', 'shots_on_target', 'deep', 'ppda', 'xPTS'],\n",
       "      dtype='object')"
      ]
     },
     "execution_count": 29,
     "metadata": {},
     "output_type": "execute_result"
    }
   ],
   "source": [
    "data.columns"
   ]
  },
  {
   "cell_type": "code",
   "execution_count": 30,
   "id": "7d69866c-c979-4c5c-8670-4ef52a580c63",
   "metadata": {},
   "outputs": [
    {
     "data": {
      "text/html": [
       "<div>\n",
       "<style scoped>\n",
       "    .dataframe tbody tr th:only-of-type {\n",
       "        vertical-align: middle;\n",
       "    }\n",
       "\n",
       "    .dataframe tbody tr th {\n",
       "        vertical-align: top;\n",
       "    }\n",
       "\n",
       "    .dataframe thead th {\n",
       "        text-align: right;\n",
       "    }\n",
       "</style>\n",
       "<table border=\"1\" class=\"dataframe\">\n",
       "  <thead>\n",
       "    <tr style=\"text-align: right;\">\n",
       "      <th></th>\n",
       "      <th>id</th>\n",
       "      <th>league</th>\n",
       "      <th>date</th>\n",
       "      <th>team_home</th>\n",
       "      <th>team_away</th>\n",
       "      <th>chances</th>\n",
       "      <th>goals</th>\n",
       "      <th>xG</th>\n",
       "      <th>shots</th>\n",
       "      <th>shots_on_target</th>\n",
       "      <th>deep</th>\n",
       "      <th>ppda</th>\n",
       "      <th>xPTS</th>\n",
       "    </tr>\n",
       "  </thead>\n",
       "  <tbody>\n",
       "    <tr>\n",
       "      <th>0</th>\n",
       "      <td>81</td>\n",
       "      <td>EPL2015</td>\n",
       "      <td>Aug 08 2015</td>\n",
       "      <td>Manchester United</td>\n",
       "      <td>Tottenham</td>\n",
       "      <td>['29', '39', '32']</td>\n",
       "      <td>['1', '0']</td>\n",
       "      <td>['0.63', '0.67']</td>\n",
       "      <td>['9', '9']</td>\n",
       "      <td>['1', '4']</td>\n",
       "      <td>['4', '10']</td>\n",
       "      <td>['13.83', '8.22']</td>\n",
       "      <td>['1.25', '1.36']</td>\n",
       "    </tr>\n",
       "    <tr>\n",
       "      <th>1</th>\n",
       "      <td>82</td>\n",
       "      <td>EPL2015</td>\n",
       "      <td>Aug 08 2015</td>\n",
       "      <td>Bournemouth</td>\n",
       "      <td>Aston Villa</td>\n",
       "      <td>['34', '36', '30']</td>\n",
       "      <td>['0', '1']</td>\n",
       "      <td>['0.88', '0.78']</td>\n",
       "      <td>['11', '7']</td>\n",
       "      <td>['2', '3']</td>\n",
       "      <td>['11', '2']</td>\n",
       "      <td>['6.90', '11.85']</td>\n",
       "      <td>['1.39', '1.25']</td>\n",
       "    </tr>\n",
       "    <tr>\n",
       "      <th>2</th>\n",
       "      <td>83</td>\n",
       "      <td>EPL2015</td>\n",
       "      <td>Aug 08 2015</td>\n",
       "      <td>Everton</td>\n",
       "      <td>Watford</td>\n",
       "      <td>['30', '43', '27']</td>\n",
       "      <td>['2', '2']</td>\n",
       "      <td>['0.60', '0.56']</td>\n",
       "      <td>['10', '11']</td>\n",
       "      <td>['5', '5']</td>\n",
       "      <td>['5', '4']</td>\n",
       "      <td>['6.65', '17.16']</td>\n",
       "      <td>['1.33', '1.24']</td>\n",
       "    </tr>\n",
       "    <tr>\n",
       "      <th>3</th>\n",
       "      <td>84</td>\n",
       "      <td>EPL2015</td>\n",
       "      <td>Aug 08 2015</td>\n",
       "      <td>Leicester</td>\n",
       "      <td>Sunderland</td>\n",
       "      <td>['64', '21', '15']</td>\n",
       "      <td>['4', '2']</td>\n",
       "      <td>['2.57', '1.46']</td>\n",
       "      <td>['19', '11']</td>\n",
       "      <td>['8', '5']</td>\n",
       "      <td>['5', '6']</td>\n",
       "      <td>['10.88', '9.56']</td>\n",
       "      <td>['2.13', '0.66']</td>\n",
       "    </tr>\n",
       "    <tr>\n",
       "      <th>4</th>\n",
       "      <td>85</td>\n",
       "      <td>EPL2015</td>\n",
       "      <td>Aug 08 2015</td>\n",
       "      <td>Norwich</td>\n",
       "      <td>Crystal Palace</td>\n",
       "      <td>['15', '21', '64']</td>\n",
       "      <td>['1', '3']</td>\n",
       "      <td>['1.13', '2.11']</td>\n",
       "      <td>['17', '11']</td>\n",
       "      <td>['6', '7']</td>\n",
       "      <td>['5', '10']</td>\n",
       "      <td>['5.74', '10.63']</td>\n",
       "      <td>['0.65', '2.13']</td>\n",
       "    </tr>\n",
       "  </tbody>\n",
       "</table>\n",
       "</div>"
      ],
      "text/plain": [
       "   id   league         date          team_home       team_away  \\\n",
       "0  81  EPL2015  Aug 08 2015  Manchester United       Tottenham   \n",
       "1  82  EPL2015  Aug 08 2015        Bournemouth     Aston Villa   \n",
       "2  83  EPL2015  Aug 08 2015            Everton         Watford   \n",
       "3  84  EPL2015  Aug 08 2015          Leicester      Sunderland   \n",
       "4  85  EPL2015  Aug 08 2015            Norwich  Crystal Palace   \n",
       "\n",
       "              chances       goals                xG         shots  \\\n",
       "0  ['29', '39', '32']  ['1', '0']  ['0.63', '0.67']    ['9', '9']   \n",
       "1  ['34', '36', '30']  ['0', '1']  ['0.88', '0.78']   ['11', '7']   \n",
       "2  ['30', '43', '27']  ['2', '2']  ['0.60', '0.56']  ['10', '11']   \n",
       "3  ['64', '21', '15']  ['4', '2']  ['2.57', '1.46']  ['19', '11']   \n",
       "4  ['15', '21', '64']  ['1', '3']  ['1.13', '2.11']  ['17', '11']   \n",
       "\n",
       "  shots_on_target         deep               ppda              xPTS  \n",
       "0      ['1', '4']  ['4', '10']  ['13.83', '8.22']  ['1.25', '1.36']  \n",
       "1      ['2', '3']  ['11', '2']  ['6.90', '11.85']  ['1.39', '1.25']  \n",
       "2      ['5', '5']   ['5', '4']  ['6.65', '17.16']  ['1.33', '1.24']  \n",
       "3      ['8', '5']   ['5', '6']  ['10.88', '9.56']  ['2.13', '0.66']  \n",
       "4      ['6', '7']  ['5', '10']  ['5.74', '10.63']  ['0.65', '2.13']  "
      ]
     },
     "execution_count": 30,
     "metadata": {},
     "output_type": "execute_result"
    }
   ],
   "source": [
    "data.head()"
   ]
  },
  {
   "cell_type": "markdown",
   "id": "19a0c0ad-5123-43b8-98cf-4eecc2c27fe8",
   "metadata": {},
   "source": [
    "# Remove Year from League Name\n",
    "- unique comparable league names\n",
    "- no duplicate years with date"
   ]
  },
  {
   "cell_type": "code",
   "execution_count": 38,
   "id": "bbfa7ae7-b280-460e-9323-858ca79f90f3",
   "metadata": {},
   "outputs": [],
   "source": [
    "data.league = data.league.apply(lambda x: x[:-4])"
   ]
  },
  {
   "cell_type": "code",
   "execution_count": 41,
   "id": "9715a22e-6146-45ae-b143-941d148e6a91",
   "metadata": {},
   "outputs": [
    {
     "data": {
      "text/plain": [
       "array(['EPL', 'Serie_A', 'Bundesliga', 'La_liga', 'Ligue_1', 'RFPL'],\n",
       "      dtype=object)"
      ]
     },
     "execution_count": 41,
     "metadata": {},
     "output_type": "execute_result"
    }
   ],
   "source": [
    "data.league.unique()"
   ]
  },
  {
   "cell_type": "markdown",
   "id": "6b77c1a4-d132-4124-a31c-789e4305eb5d",
   "metadata": {},
   "source": [
    "# Convert string dates to python datetime objects"
   ]
  },
  {
   "cell_type": "code",
   "execution_count": 55,
   "id": "d4bd78ef-2426-4d2a-81cc-a095c41a9bb2",
   "metadata": {},
   "outputs": [],
   "source": [
    "data.date = data.date.apply(lambda x: datetime.strptime(x, '%b %d %Y'))"
   ]
  },
  {
   "cell_type": "code",
   "execution_count": 56,
   "id": "090261ab-bc22-4f85-9d72-e9e05d308df3",
   "metadata": {},
   "outputs": [
    {
     "data": {
      "text/plain": [
       "count                            20980\n",
       "mean     2019-05-20 21:14:47.473784320\n",
       "min                2014-08-01 00:00:00\n",
       "25%                2017-01-22 00:00:00\n",
       "50%                2019-05-24 00:00:00\n",
       "75%                2021-10-31 00:00:00\n",
       "max                2023-12-03 00:00:00\n",
       "Name: date, dtype: object"
      ]
     },
     "execution_count": 56,
     "metadata": {},
     "output_type": "execute_result"
    }
   ],
   "source": [
    "data.date.describe()"
   ]
  },
  {
   "cell_type": "markdown",
   "id": "f6496331-82a0-4ec4-bc97-187293b6350b",
   "metadata": {},
   "source": [
    "# Check team names\n",
    "Minimum amount of name occurences should be amount of home matches in current season"
   ]
  },
  {
   "cell_type": "code",
   "execution_count": 58,
   "id": "38c09161-755c-4b08-9221-0a9608dfde6b",
   "metadata": {},
   "outputs": [
    {
     "data": {
      "text/plain": [
       "team_away\n",
       "Tottenham             207\n",
       "West Ham              207\n",
       "Liverpool             207\n",
       "Manchester City       207\n",
       "Manchester United     207\n",
       "                     ... \n",
       "FC Rotor Volgograd     14\n",
       "Baltika                 9\n",
       "Luton                   8\n",
       "FC Heidenheim           7\n",
       "Le Havre                7\n",
       "Name: count, Length: 191, dtype: int64"
      ]
     },
     "execution_count": 58,
     "metadata": {},
     "output_type": "execute_result"
    }
   ],
   "source": [
    "data.team_away.value_counts()"
   ]
  },
  {
   "cell_type": "code",
   "execution_count": 59,
   "id": "826908b0-e6cf-4066-87c8-ec513977f100",
   "metadata": {},
   "outputs": [
    {
     "data": {
      "text/plain": [
       "team_home\n",
       "Arsenal               208\n",
       "Manchester United     207\n",
       "Everton               207\n",
       "Chelsea               207\n",
       "Tottenham             206\n",
       "                     ... \n",
       "FC Rotor Volgograd     14\n",
       "Baltika                 8\n",
       "Le Havre                7\n",
       "Luton                   6\n",
       "FC Heidenheim           6\n",
       "Name: count, Length: 191, dtype: int64"
      ]
     },
     "execution_count": 59,
     "metadata": {},
     "output_type": "execute_result"
    }
   ],
   "source": [
    "data.team_home.value_counts()"
   ]
  },
  {
   "cell_type": "code",
   "execution_count": 60,
   "id": "b05ccfe5-ac95-41d9-91ed-64bb82e820c8",
   "metadata": {},
   "outputs": [
    {
     "data": {
      "text/html": [
       "<div>\n",
       "<style scoped>\n",
       "    .dataframe tbody tr th:only-of-type {\n",
       "        vertical-align: middle;\n",
       "    }\n",
       "\n",
       "    .dataframe tbody tr th {\n",
       "        vertical-align: top;\n",
       "    }\n",
       "\n",
       "    .dataframe thead th {\n",
       "        text-align: right;\n",
       "    }\n",
       "</style>\n",
       "<table border=\"1\" class=\"dataframe\">\n",
       "  <thead>\n",
       "    <tr style=\"text-align: right;\">\n",
       "      <th></th>\n",
       "      <th>id</th>\n",
       "      <th>league</th>\n",
       "      <th>date</th>\n",
       "      <th>team_home</th>\n",
       "      <th>team_away</th>\n",
       "      <th>chances</th>\n",
       "      <th>goals</th>\n",
       "      <th>xG</th>\n",
       "      <th>shots</th>\n",
       "      <th>shots_on_target</th>\n",
       "      <th>deep</th>\n",
       "      <th>ppda</th>\n",
       "      <th>xPTS</th>\n",
       "    </tr>\n",
       "  </thead>\n",
       "  <tbody>\n",
       "    <tr>\n",
       "      <th>20761</th>\n",
       "      <td>23078</td>\n",
       "      <td>Bundesliga</td>\n",
       "      <td>2023-08-26</td>\n",
       "      <td>FC Heidenheim</td>\n",
       "      <td>Hoffenheim</td>\n",
       "      <td>['37', '24', '39']</td>\n",
       "      <td>['2', '3']</td>\n",
       "      <td>['2.73', '2.76']</td>\n",
       "      <td>['20', '16']</td>\n",
       "      <td>['9', '6']</td>\n",
       "      <td>['8', '4']</td>\n",
       "      <td>['17.50', '6.44']</td>\n",
       "      <td>['1.34', '1.42']</td>\n",
       "    </tr>\n",
       "    <tr>\n",
       "      <th>20782</th>\n",
       "      <td>23099</td>\n",
       "      <td>Bundesliga</td>\n",
       "      <td>2023-09-17</td>\n",
       "      <td>FC Heidenheim</td>\n",
       "      <td>Werder Bremen</td>\n",
       "      <td>['23', '23', '54']</td>\n",
       "      <td>['4', '2']</td>\n",
       "      <td>['1.96', '2.56']</td>\n",
       "      <td>['18', '11']</td>\n",
       "      <td>['5', '4']</td>\n",
       "      <td>['1', '11']</td>\n",
       "      <td>['8.25', '9.05']</td>\n",
       "      <td>['0.91', '1.85']</td>\n",
       "    </tr>\n",
       "    <tr>\n",
       "      <th>20795</th>\n",
       "      <td>23112</td>\n",
       "      <td>Bundesliga</td>\n",
       "      <td>2023-09-30</td>\n",
       "      <td>FC Heidenheim</td>\n",
       "      <td>Union Berlin</td>\n",
       "      <td>['5', '15', '80']</td>\n",
       "      <td>['1', '0']</td>\n",
       "      <td>['0.54', '2.16']</td>\n",
       "      <td>['10', '20']</td>\n",
       "      <td>['4', '8']</td>\n",
       "      <td>['3', '9']</td>\n",
       "      <td>['16.60', '11.05']</td>\n",
       "      <td>['0.30', '2.56']</td>\n",
       "    </tr>\n",
       "    <tr>\n",
       "      <th>20819</th>\n",
       "      <td>23136</td>\n",
       "      <td>Bundesliga</td>\n",
       "      <td>2023-10-22</td>\n",
       "      <td>FC Heidenheim</td>\n",
       "      <td>Augsburg</td>\n",
       "      <td>['19', '22', '59']</td>\n",
       "      <td>['2', '5']</td>\n",
       "      <td>['1.99', '2.82']</td>\n",
       "      <td>['15', '9']</td>\n",
       "      <td>['5', '6']</td>\n",
       "      <td>['6', '4']</td>\n",
       "      <td>['16.14', '22.81']</td>\n",
       "      <td>['0.79', '1.99']</td>\n",
       "    </tr>\n",
       "    <tr>\n",
       "      <th>20836</th>\n",
       "      <td>23153</td>\n",
       "      <td>Bundesliga</td>\n",
       "      <td>2023-11-05</td>\n",
       "      <td>FC Heidenheim</td>\n",
       "      <td>VfB Stuttgart</td>\n",
       "      <td>['5', '11', '84']</td>\n",
       "      <td>['2', '0']</td>\n",
       "      <td>['0.78', '2.57']</td>\n",
       "      <td>['19', '16']</td>\n",
       "      <td>['3', '2']</td>\n",
       "      <td>['3', '14']</td>\n",
       "      <td>['25.43', '6.00']</td>\n",
       "      <td>['0.26', '2.63']</td>\n",
       "    </tr>\n",
       "    <tr>\n",
       "      <th>20855</th>\n",
       "      <td>23172</td>\n",
       "      <td>Bundesliga</td>\n",
       "      <td>2023-11-26</td>\n",
       "      <td>FC Heidenheim</td>\n",
       "      <td>Bochum</td>\n",
       "      <td>['44', '41', '15']</td>\n",
       "      <td>['0', '0']</td>\n",
       "      <td>['0.75', '0.36']</td>\n",
       "      <td>['9', '10']</td>\n",
       "      <td>['3', '2']</td>\n",
       "      <td>['4', '4']</td>\n",
       "      <td>['10.30', '12.16']</td>\n",
       "      <td>['1.72', '0.87']</td>\n",
       "    </tr>\n",
       "  </tbody>\n",
       "</table>\n",
       "</div>"
      ],
      "text/plain": [
       "          id      league       date      team_home      team_away  \\\n",
       "20761  23078  Bundesliga 2023-08-26  FC Heidenheim     Hoffenheim   \n",
       "20782  23099  Bundesliga 2023-09-17  FC Heidenheim  Werder Bremen   \n",
       "20795  23112  Bundesliga 2023-09-30  FC Heidenheim   Union Berlin   \n",
       "20819  23136  Bundesliga 2023-10-22  FC Heidenheim       Augsburg   \n",
       "20836  23153  Bundesliga 2023-11-05  FC Heidenheim  VfB Stuttgart   \n",
       "20855  23172  Bundesliga 2023-11-26  FC Heidenheim         Bochum   \n",
       "\n",
       "                  chances       goals                xG         shots  \\\n",
       "20761  ['37', '24', '39']  ['2', '3']  ['2.73', '2.76']  ['20', '16']   \n",
       "20782  ['23', '23', '54']  ['4', '2']  ['1.96', '2.56']  ['18', '11']   \n",
       "20795   ['5', '15', '80']  ['1', '0']  ['0.54', '2.16']  ['10', '20']   \n",
       "20819  ['19', '22', '59']  ['2', '5']  ['1.99', '2.82']   ['15', '9']   \n",
       "20836   ['5', '11', '84']  ['2', '0']  ['0.78', '2.57']  ['19', '16']   \n",
       "20855  ['44', '41', '15']  ['0', '0']  ['0.75', '0.36']   ['9', '10']   \n",
       "\n",
       "      shots_on_target         deep                ppda              xPTS  \n",
       "20761      ['9', '6']   ['8', '4']   ['17.50', '6.44']  ['1.34', '1.42']  \n",
       "20782      ['5', '4']  ['1', '11']    ['8.25', '9.05']  ['0.91', '1.85']  \n",
       "20795      ['4', '8']   ['3', '9']  ['16.60', '11.05']  ['0.30', '2.56']  \n",
       "20819      ['5', '6']   ['6', '4']  ['16.14', '22.81']  ['0.79', '1.99']  \n",
       "20836      ['3', '2']  ['3', '14']   ['25.43', '6.00']  ['0.26', '2.63']  \n",
       "20855      ['3', '2']   ['4', '4']  ['10.30', '12.16']  ['1.72', '0.87']  "
      ]
     },
     "execution_count": 60,
     "metadata": {},
     "output_type": "execute_result"
    }
   ],
   "source": [
    "data.loc[data.team_home=='FC Heidenheim']"
   ]
  },
  {
   "cell_type": "markdown",
   "id": "845fccbd-0c0a-4521-9a44-0cfc85b1b528",
   "metadata": {},
   "source": [
    "# Convert statistc values from string to float/int"
   ]
  },
  {
   "cell_type": "code",
   "execution_count": 74,
   "id": "1b2ddd4e-5165-4d5e-b349-161a75f4e160",
   "metadata": {},
   "outputs": [
    {
     "data": {
      "text/plain": [
       "['29', '39', '32']"
      ]
     },
     "execution_count": 74,
     "metadata": {},
     "output_type": "execute_result"
    }
   ],
   "source": [
    "eval(data.chances.loc[0])"
   ]
  },
  {
   "cell_type": "code",
   "execution_count": 76,
   "id": "84f8187c-320c-49dc-9b62-89098a052087",
   "metadata": {},
   "outputs": [],
   "source": [
    "data.chances = data.chances.apply(lambda x: [int(eval(x)[0]), int(eval(x)[1]), int(eval(x)[2])])"
   ]
  },
  {
   "cell_type": "code",
   "execution_count": 80,
   "id": "01b61ab5-59da-4358-b004-5436572dfc94",
   "metadata": {},
   "outputs": [],
   "source": [
    "data.goals = data.goals.apply(lambda x: [int(eval(x)[0]), int(eval(x)[1])])"
   ]
  },
  {
   "cell_type": "code",
   "execution_count": 82,
   "id": "2a91ab77-e871-469e-a27e-2ab0d984c1a6",
   "metadata": {},
   "outputs": [],
   "source": [
    "data.xG = data.xG.apply(lambda x: [float(eval(x)[0]), float(eval(x)[1])])"
   ]
  },
  {
   "cell_type": "code",
   "execution_count": 83,
   "id": "899510ea-9eb7-4cff-8dac-8741ac566623",
   "metadata": {},
   "outputs": [],
   "source": [
    "data.shots = data.shots.apply(lambda x: [int(eval(x)[0]), int(eval(x)[1])])"
   ]
  },
  {
   "cell_type": "code",
   "execution_count": 87,
   "id": "afcec00c-83ad-48e5-9542-4031aeddac49",
   "metadata": {},
   "outputs": [],
   "source": [
    "data.shots_on_target = data.shots_on_target.apply(lambda x: [int(eval(x)[0]), int(eval(x)[1])])"
   ]
  },
  {
   "cell_type": "code",
   "execution_count": 88,
   "id": "faee9845-b3e8-4f48-a929-ce94ceb4dbae",
   "metadata": {},
   "outputs": [],
   "source": [
    "data.deep = data.deep.apply(lambda x: [int(eval(x)[0]), int(eval(x)[1])])"
   ]
  },
  {
   "cell_type": "code",
   "execution_count": 84,
   "id": "c88cd662-145a-4cc0-a2c9-f8c37e245af2",
   "metadata": {},
   "outputs": [],
   "source": [
    "data.ppda = data.ppda.apply(lambda x: [float(eval(x)[0]), float(eval(x)[1])])"
   ]
  },
  {
   "cell_type": "code",
   "execution_count": 85,
   "id": "6f2a16df-83cc-4729-986d-9bb68e6ea4f0",
   "metadata": {},
   "outputs": [],
   "source": [
    "data.xPTS = data.xPTS.apply(lambda x: [float(eval(x)[0]), float(eval(x)[1])])"
   ]
  },
  {
   "cell_type": "code",
   "execution_count": 89,
   "id": "030e847b-1ab5-40a6-abf5-5bf6f3fdd490",
   "metadata": {},
   "outputs": [
    {
     "data": {
      "text/html": [
       "<div>\n",
       "<style scoped>\n",
       "    .dataframe tbody tr th:only-of-type {\n",
       "        vertical-align: middle;\n",
       "    }\n",
       "\n",
       "    .dataframe tbody tr th {\n",
       "        vertical-align: top;\n",
       "    }\n",
       "\n",
       "    .dataframe thead th {\n",
       "        text-align: right;\n",
       "    }\n",
       "</style>\n",
       "<table border=\"1\" class=\"dataframe\">\n",
       "  <thead>\n",
       "    <tr style=\"text-align: right;\">\n",
       "      <th></th>\n",
       "      <th>id</th>\n",
       "      <th>league</th>\n",
       "      <th>date</th>\n",
       "      <th>team_home</th>\n",
       "      <th>team_away</th>\n",
       "      <th>chances</th>\n",
       "      <th>goals</th>\n",
       "      <th>xG</th>\n",
       "      <th>shots</th>\n",
       "      <th>shots_on_target</th>\n",
       "      <th>deep</th>\n",
       "      <th>ppda</th>\n",
       "      <th>xPTS</th>\n",
       "    </tr>\n",
       "  </thead>\n",
       "  <tbody>\n",
       "    <tr>\n",
       "      <th>0</th>\n",
       "      <td>81</td>\n",
       "      <td>EPL</td>\n",
       "      <td>2015-08-08</td>\n",
       "      <td>Manchester United</td>\n",
       "      <td>Tottenham</td>\n",
       "      <td>[29, 39, 32]</td>\n",
       "      <td>[1, 0]</td>\n",
       "      <td>[0.63, 0.67]</td>\n",
       "      <td>[9, 9]</td>\n",
       "      <td>[1, 4]</td>\n",
       "      <td>[4, 10]</td>\n",
       "      <td>[13.83, 8.22]</td>\n",
       "      <td>[1.25, 1.36]</td>\n",
       "    </tr>\n",
       "    <tr>\n",
       "      <th>1</th>\n",
       "      <td>82</td>\n",
       "      <td>EPL</td>\n",
       "      <td>2015-08-08</td>\n",
       "      <td>Bournemouth</td>\n",
       "      <td>Aston Villa</td>\n",
       "      <td>[34, 36, 30]</td>\n",
       "      <td>[0, 1]</td>\n",
       "      <td>[0.88, 0.78]</td>\n",
       "      <td>[11, 7]</td>\n",
       "      <td>[2, 3]</td>\n",
       "      <td>[11, 2]</td>\n",
       "      <td>[6.9, 11.85]</td>\n",
       "      <td>[1.39, 1.25]</td>\n",
       "    </tr>\n",
       "    <tr>\n",
       "      <th>2</th>\n",
       "      <td>83</td>\n",
       "      <td>EPL</td>\n",
       "      <td>2015-08-08</td>\n",
       "      <td>Everton</td>\n",
       "      <td>Watford</td>\n",
       "      <td>[30, 43, 27]</td>\n",
       "      <td>[2, 2]</td>\n",
       "      <td>[0.6, 0.56]</td>\n",
       "      <td>[10, 11]</td>\n",
       "      <td>[5, 5]</td>\n",
       "      <td>[5, 4]</td>\n",
       "      <td>[6.65, 17.16]</td>\n",
       "      <td>[1.33, 1.24]</td>\n",
       "    </tr>\n",
       "    <tr>\n",
       "      <th>3</th>\n",
       "      <td>84</td>\n",
       "      <td>EPL</td>\n",
       "      <td>2015-08-08</td>\n",
       "      <td>Leicester</td>\n",
       "      <td>Sunderland</td>\n",
       "      <td>[64, 21, 15]</td>\n",
       "      <td>[4, 2]</td>\n",
       "      <td>[2.57, 1.46]</td>\n",
       "      <td>[19, 11]</td>\n",
       "      <td>[8, 5]</td>\n",
       "      <td>[5, 6]</td>\n",
       "      <td>[10.88, 9.56]</td>\n",
       "      <td>[2.13, 0.66]</td>\n",
       "    </tr>\n",
       "    <tr>\n",
       "      <th>4</th>\n",
       "      <td>85</td>\n",
       "      <td>EPL</td>\n",
       "      <td>2015-08-08</td>\n",
       "      <td>Norwich</td>\n",
       "      <td>Crystal Palace</td>\n",
       "      <td>[15, 21, 64]</td>\n",
       "      <td>[1, 3]</td>\n",
       "      <td>[1.13, 2.11]</td>\n",
       "      <td>[17, 11]</td>\n",
       "      <td>[6, 7]</td>\n",
       "      <td>[5, 10]</td>\n",
       "      <td>[5.74, 10.63]</td>\n",
       "      <td>[0.65, 2.13]</td>\n",
       "    </tr>\n",
       "  </tbody>\n",
       "</table>\n",
       "</div>"
      ],
      "text/plain": [
       "   id league       date          team_home       team_away       chances  \\\n",
       "0  81    EPL 2015-08-08  Manchester United       Tottenham  [29, 39, 32]   \n",
       "1  82    EPL 2015-08-08        Bournemouth     Aston Villa  [34, 36, 30]   \n",
       "2  83    EPL 2015-08-08            Everton         Watford  [30, 43, 27]   \n",
       "3  84    EPL 2015-08-08          Leicester      Sunderland  [64, 21, 15]   \n",
       "4  85    EPL 2015-08-08            Norwich  Crystal Palace  [15, 21, 64]   \n",
       "\n",
       "    goals            xG     shots shots_on_target     deep           ppda  \\\n",
       "0  [1, 0]  [0.63, 0.67]    [9, 9]          [1, 4]  [4, 10]  [13.83, 8.22]   \n",
       "1  [0, 1]  [0.88, 0.78]   [11, 7]          [2, 3]  [11, 2]   [6.9, 11.85]   \n",
       "2  [2, 2]   [0.6, 0.56]  [10, 11]          [5, 5]   [5, 4]  [6.65, 17.16]   \n",
       "3  [4, 2]  [2.57, 1.46]  [19, 11]          [8, 5]   [5, 6]  [10.88, 9.56]   \n",
       "4  [1, 3]  [1.13, 2.11]  [17, 11]          [6, 7]  [5, 10]  [5.74, 10.63]   \n",
       "\n",
       "           xPTS  \n",
       "0  [1.25, 1.36]  \n",
       "1  [1.39, 1.25]  \n",
       "2  [1.33, 1.24]  \n",
       "3  [2.13, 0.66]  \n",
       "4  [0.65, 2.13]  "
      ]
     },
     "execution_count": 89,
     "metadata": {},
     "output_type": "execute_result"
    }
   ],
   "source": [
    "data.head()"
   ]
  },
  {
   "cell_type": "code",
   "execution_count": 91,
   "id": "291eff31-6581-4798-b20d-3a5839fd2d32",
   "metadata": {},
   "outputs": [],
   "source": [
    "write_file_path = git_root + '/data/standardized_data/understat_data_cleaned.csv'\n",
    "data.to_csv(write_file_path)"
   ]
  },
  {
   "cell_type": "markdown",
   "id": "a56b0a9e-11c6-43cc-911b-5bc004e66567",
   "metadata": {},
   "source": [
    "# Data Validation TODO\n",
    "Ideal would be a second dataset to verify the given data.\\\n",
    "Checks:\\\n",
    "- Consistent amount of matches per league / per team over the years"
   ]
  },
  {
   "cell_type": "code",
   "execution_count": null,
   "id": "0d817b50-6a95-413b-ba7d-94dcf4d49b27",
   "metadata": {},
   "outputs": [],
   "source": []
  }
 ],
 "metadata": {
  "kernelspec": {
   "display_name": "base",
   "language": "python",
   "name": "base"
  },
  "language_info": {
   "codemirror_mode": {
    "name": "ipython",
    "version": 3
   },
   "file_extension": ".py",
   "mimetype": "text/x-python",
   "name": "python",
   "nbconvert_exporter": "python",
   "pygments_lexer": "ipython3",
   "version": "3.11.4"
  }
 },
 "nbformat": 4,
 "nbformat_minor": 5
}
