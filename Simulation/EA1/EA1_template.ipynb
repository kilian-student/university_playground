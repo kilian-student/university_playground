{
 "cells": [
  {
   "cell_type": "markdown",
   "metadata": {},
   "source": [
    "# Einsendeaufgabe 1"
   ]
  },
  {
   "cell_type": "markdown",
   "metadata": {},
   "source": [
    "## 1. Beispielaufgabe"
   ]
  },
  {
   "cell_type": "markdown",
   "metadata": {},
   "source": [
    "Betrachten wir einen Stecken, der am Strand durch den Sand fährt. Er bewegt sich in x-Richtung mit der Geschwindigkeit $u(t)=48\\cdot sin^2(t)\\cdot cos(t)$ und in y-Richtung mit $v(t)=-13\\sin(t)+10\\sin(2t)+6\\sin(3t)+4\\cos(4t)$. Die Bahnkurve $(x(t),y(t))^T$ beschreibt den Ort des Steckens zum Zeitpunkt t. Der Stecken beginnt am Punkt $(x_0,y_0)=(0,0)$ in den Sand zu zeichnen. \n",
    "\n",
    ">Die Bewegung lässt sich als Differentialgleichungssystem beschreiben, da die Ableitung der Ortsfunktion der Geschwindigkeit entspricht:\n",
    ">\n",
    ">\\begin{align*}\n",
    "\\frac{dx}{dt}&=48\\cdot \\sin^2(t)\\cdot \\cos(t)\\\\\n",
    "\\frac{dy}{dt}&=-13\\sin(t)+10\\sin(2t)+6\\sin(3t)+4\\sin(4t)\n",
    "\\end{align*}\n",
    ">\n",
    ">mit den Anfangsbedingungen $x(0)=0$ und $y(0)=0$\n",
    "\n",
    "Wie sieht die Bewegung des Steckens im Sand aus? "
   ]
  },
  {
   "cell_type": "markdown",
   "metadata": {},
   "source": []
  },
  {
   "cell_type": "markdown",
   "metadata": {},
   "source": [
    "### 1.1 Differentialgleichungssystem mathematisch lösen\n",
    "\n",
    "Die Ortskurve für $x(t)$ wird durch Integration berechnet:\n",
    "\\begin{align*}\n",
    "x(t)=\\int 48\\cdot \\sin^2(t)\\cdot \\cos(t) dt=16\\sin^3(t)+c\n",
    "\\end{align*}\n",
    "\n",
    "Die Integrationskonstante $c$ wird durch die Anfangsbedingung bestimmt:\n",
    "\n",
    "\\begin{align*}\n",
    "&x(0)=16\\sin^3(0)+c=c&&\\mbox{Orstkurve zum Zeitpunkt Null}\\\\\n",
    "&x(0)=0&&\\mbox{Anfangsbedingung}\\\\\n",
    "&\\Rightarrow c=0\n",
    "\\end{align*}\n",
    "\n",
    "Damit folgt für die Bahnkurve\n",
    "\\begin{align*}\n",
    "x(t)=16\\sin^3(t)\n",
    "\\end{align*}\n",
    "\n",
    "Äquivalent kann auch die Bahnkurve $y(t)$ berechnet werden!\n",
    "\n",
    "\\begin{align*}\n",
    "y(t)=13\\cos(t)-5\\cos(2t)-2\\cos(3t)-\\cos(4t)-5\n",
    "\\end{align*}"
   ]
  },
  {
   "cell_type": "markdown",
   "metadata": {},
   "source": [
    "### 1.2 Man kann das Differentialgleichungssystem auch mit Python lösen\n",
    "**Schritt 1:** Zuerst müssen die nötigen Pakete geladen werden:"
   ]
  },
  {
   "cell_type": "code",
   "execution_count": null,
   "metadata": {},
   "outputs": [],
   "source": [
    "import numpy as np\n",
    "from scipy.integrate import odeint\n",
    "import matplotlib.pyplot as plt\n",
    "from math import sin, cos\n",
    "print('Pakete sind geladen')"
   ]
  },
  {
   "cell_type": "markdown",
   "metadata": {},
   "source": [
    "**Schritt 2:** Differentialgleichungen können in Python mit der Funktion ODEINT gelöst werden, die im Scipy.integrate Paket enthalten ist. ODIENT benötigt drei Eingaben:\n",
    "\n",
    "    y = odeint(model, init, t)    \n",
    "* **model**:  Differentialgleichungssystem in Abhängigkeit der Zeit t\n",
    "* **init**:  Anfangsbedingungen der Differntialgleichungen\n",
    "* **t**:  Zeitpunkte zu denen die Lösung berechnet werden soll"
   ]
  },
  {
   "cell_type": "code",
   "execution_count": null,
   "metadata": {},
   "outputs": [],
   "source": [
    "# Modellierung der Differentialgleichungen\n",
    "def model(y,t):\n",
    "    dxdt = 48*cos(t)*sin(t)*sin(t)  # Geschwindigkeit in x-Richtung\n",
    "    dydt = -13*sin(t)+10*sin(2*t)+6*sin(3*t)+4*sin(4*t)  # Geschwindigkeit in y-Richtung\n",
    "    return [dxdt,dydt]\n",
    "\n",
    "# Anfangsbedingungen\n",
    "x0=0\n",
    "y0=0\n",
    "InitialConditions=[x0,y0]\n",
    "\n",
    "# Zeitschritte\n",
    "t = np.linspace(0,60,501)\n",
    "\n",
    "# Das DGE lösen\n",
    "heart = odeint(model,InitialConditions,t)\n",
    "\n",
    "# Grafik erstellen\n",
    "plt.plot(heart[:,0], heart[:,1])\n",
    "plt.xlabel('x-Richtung')\n",
    "plt.ylabel('y-Richtung')\n",
    "plt.axis('square')\n",
    "plt.grid()\n",
    "plt.show()"
   ]
  },
  {
   "cell_type": "markdown",
   "metadata": {},
   "source": [
    "## 2. Blindenhund"
   ]
  },
  {
   "cell_type": "markdown",
   "metadata": {},
   "source": [
    "Modellieren Sie nun in der folgenden Aufgabe die Bahnkurve des Trainers:"
   ]
  },
  {
   "cell_type": "code",
   "execution_count": null,
   "metadata": {},
   "outputs": [],
   "source": []
  },
  {
   "cell_type": "markdown",
   "metadata": {},
   "source": [
    "## 3. Projektion\n",
    "Um die Bahnkurve des Hundes zu bestimmen, muss der Geschwindigkeitsvektor auf die Leine projiziert werden. Für die Projektion gilt die folgende Formel:\n",
    "\\begin{align*}\n",
    "\\overrightarrow{v}_d&=\\frac{\\overrightarrow{v}\\circ \\overrightarrow{d}}{|\\overrightarrow{d}|^2}\\cdot \\overrightarrow{d}\n",
    "\\end{align*}\n",
    "\n",
    "Diese Formel können Sie im Modell mit einbauen, um die Bahnkurve zu berechnen:"
   ]
  },
  {
   "cell_type": "code",
   "execution_count": null,
   "metadata": {},
   "outputs": [],
   "source": []
  }
 ],
 "metadata": {
  "kernelspec": {
   "display_name": "Python 3",
   "language": "python",
   "name": "python3"
  },
  "language_info": {
   "codemirror_mode": {
    "name": "ipython",
    "version": 3
   },
   "file_extension": ".py",
   "mimetype": "text/x-python",
   "name": "python",
   "nbconvert_exporter": "python",
   "pygments_lexer": "ipython3",
   "version": "3.8.8"
  }
 },
 "nbformat": 4,
 "nbformat_minor": 4
}
